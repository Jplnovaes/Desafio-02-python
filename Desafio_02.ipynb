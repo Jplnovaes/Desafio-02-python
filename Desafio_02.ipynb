{
  "nbformat": 4,
  "nbformat_minor": 0,
  "metadata": {
    "colab": {
      "name": "Desafio#02.ipynb",
      "provenance": [],
      "collapsed_sections": [],
      "authorship_tag": "ABX9TyNjgSaaoGiehLLuEr0ORoyp",
      "include_colab_link": true
    },
    "kernelspec": {
      "name": "python3",
      "display_name": "Python 3"
    },
    "language_info": {
      "name": "python"
    }
  },
  "cells": [
    {
      "cell_type": "markdown",
      "metadata": {
        "id": "view-in-github",
        "colab_type": "text"
      },
      "source": [
        "<a href=\"https://colab.research.google.com/github/Jplnovaes/Desafio-02-python/blob/main/Desafio_02.ipynb\" target=\"_parent\"><img src=\"https://colab.research.google.com/assets/colab-badge.svg\" alt=\"Open In Colab\"/></a>"
      ]
    },
    {
      "cell_type": "code",
      "execution_count": null,
      "metadata": {
        "id": "NvLK1_sJMOHx"
      },
      "outputs": [],
      "source": [
        "class Bola:\n",
        "    def __init__(self, cor, circunferencia, material):\n",
        "       self.cor = preta\n",
        "       self.circunferencia = 35\n",
        "       self.material = couro\n",
        "    \n",
        "    def trocaCor(self, cor):\n",
        "      self.cor = cor\n",
        "    \n",
        "    def mostraCor(self):\n",
        "      return self.cor\n",
        "\n",
        "      b = Bola(\"azul\", 10, \"couro\")\n",
        "      print(b.mostraCor())\n",
        "      b.trocaCor(\"vermelha\")\n",
        "      print(b.mostraCor())"
      ]
    },
    {
      "cell_type": "code",
      "source": [
        "class Quadrado:\n",
        "    def __init__(self, tamanhoDoLado):\n",
        "       self.tamanhoDoLado = tamanhoDoLado\n",
        "\n",
        "    def valordoLado(self, tamanhoDoLado):\n",
        "        self.tamanhoDoLado = tamanhoDoLado\n",
        "\n",
        "    def valorDoLado(self):\n",
        "      return self.tamanhoDoLado    \n",
        "\n",
        "    def calcularArea(self):\n",
        "      return self.tamanhoDoLado * self.tamanhoDoLado \n",
        "\n",
        "q = Quadrado(5)\n",
        "print(q.calcularArea())"
      ],
      "metadata": {
        "id": "bU6S0Jr7QnpT",
        "colab": {
          "base_uri": "https://localhost:8080/"
        },
        "outputId": "1ee1815e-83e4-408b-9002-b9d21b986ab8"
      },
      "execution_count": null,
      "outputs": [
        {
          "output_type": "stream",
          "name": "stdout",
          "text": [
            "25\n"
          ]
        }
      ]
    },
    {
      "cell_type": "code",
      "source": [
        "class Retangulo():\n",
        "    def __init__(self, comprimento, largura):\n",
        "      self.mudarComprimento(comprimento)\n",
        "      self.mudarLargura(largura)\n",
        "\n",
        "    def mudarComprimento(self, comprimento):\n",
        "      self.comprimento = comprimento\n",
        "\n",
        "    def mudarLargura(self, largura):\n",
        "      self.largura = largura\n",
        "\n",
        "    def saberComprimento(self):\n",
        "      return self.comprimento\n",
        "      \n",
        "    def saberLargura(self):\n",
        "      return self.largura\n",
        "\n",
        "    def area(self):\n",
        "        return self.comprimento * self.largura\n",
        "\n",
        "    def perimetro(self):\n",
        "        return (2 * self.comprimento) + (2 * self.largura)\n",
        "\n",
        "    comp = float(input('Informe o valor do comprimento: '))\n",
        "    larg = float(input('Informe o valor da largura: '))\n",
        "    \n",
        "    r = Retangulo(comp,larg)\n",
        "    print(\"A area é: \", r.area())\n",
        "    print(\"O perimetro é: \", r.perimetro())    "
      ],
      "metadata": {
        "id": "tpSN-usLS36L",
        "colab": {
          "base_uri": "https://localhost:8080/"
        },
        "outputId": "57d4e6ae-83d0-4a75-9c7c-0608274597ad"
      },
      "execution_count": null,
      "outputs": [
        {
          "output_type": "stream",
          "name": "stdout",
          "text": [
            "Informe o valor do comprimento: 5\n",
            "Informe o valor da largura: 5\n",
            "A area é:  25.0\n",
            "O perimetro é:  20.0\n"
          ]
        }
      ]
    },
    {
      "cell_type": "code",
      "source": [
        "class Pessoa:\n",
        "    def __init__(self, nome, idade, peso, altura):\n",
        "       self.nome = nome\n",
        "       self.idade = idade\n",
        "       self.peso = peso\n",
        "       self.altura = altura\n",
        "\n",
        "    def envelhecer(self, anos):\n",
        "       self.idade += anos\n",
        "       if (self.idade < 21):\n",
        "           self.crescer(0.5)\n",
        "\n",
        "    def engordar(self, peso):\n",
        "      self.peso += peso\n",
        "\n",
        "    def emagrecer(self, peso):\n",
        "      self.peso -= peso\n",
        "      \n",
        "    def crescer(self, altura):\n",
        "      self.altura += altura\n",
        "\n",
        "a = Pessoa(\"Amanda\", 18, 75, 180)\n",
        "print(vars(a))\n",
        "a.engordar(5)\n",
        "print(vars(a))\n",
        "a.emagrecer(10)\n",
        "print(vars(a))\n",
        "a.crescer(3)\n",
        "print(vars(a))\n",
        "a.envelhecer(1)\n",
        "print(vars(a))  "
      ],
      "metadata": {
        "id": "b1rBP84IOcD8",
        "colab": {
          "base_uri": "https://localhost:8080/"
        },
        "outputId": "ffc3f922-e42b-4799-a9e6-58d248023799"
      },
      "execution_count": null,
      "outputs": [
        {
          "output_type": "stream",
          "name": "stdout",
          "text": [
            "{'nome': 'Amanda', 'idade': 18, 'peso': 75, 'altura': 180}\n",
            "{'nome': 'Amanda', 'idade': 18, 'peso': 80, 'altura': 180}\n",
            "{'nome': 'Amanda', 'idade': 18, 'peso': 70, 'altura': 180}\n",
            "{'nome': 'Amanda', 'idade': 18, 'peso': 70, 'altura': 183}\n",
            "{'nome': 'Amanda', 'idade': 19, 'peso': 70, 'altura': 183.5}\n"
          ]
        }
      ]
    },
    {
      "cell_type": "code",
      "source": [
        "class Conta():\n",
        "   def __init__(self, numero, nome, saldo=0):\n",
        "     self.numero = numero\n",
        "     self.nome = nome\n",
        "     self.saldo = saldo\n",
        "\n",
        "   def setNome(self, nome):\n",
        "      self.nome = nome\n",
        "\n",
        "   def deposito(self, valor):\n",
        "        self.saldo += valor\n",
        "\n",
        "   def saque(self, valor):\n",
        "          if (self.saldo >= valor):\n",
        "            self.saldo -= valor\n",
        "\n",
        "j = Conta(123, \"José\", 100.0)\n",
        "print(vars(j))\n",
        "j.setNome(\"Pedro\")\n",
        "j.deposito(50)\n",
        "print(vars(j))\n",
        "j.saque(110)\n",
        "print(vars(j))"
      ],
      "metadata": {
        "colab": {
          "base_uri": "https://localhost:8080/"
        },
        "id": "oIN201_pX5P8",
        "outputId": "c8dbc793-2e62-4ca9-9276-00d574127b94"
      },
      "execution_count": null,
      "outputs": [
        {
          "output_type": "stream",
          "name": "stdout",
          "text": [
            "{'numero': 123, 'nome': 'José', 'saldo': 100.0}\n",
            "{'numero': 123, 'nome': 'Pedro', 'saldo': 150.0}\n",
            "{'numero': 123, 'nome': 'Pedro', 'saldo': 40.0}\n"
          ]
        }
      ]
    },
    {
      "cell_type": "code",
      "source": [
        "class Tv():\n",
        "  def __init__(self):\n",
        "    self.setCanal(0)\n",
        "    self.volume = 0\n",
        "\n",
        "  def setCanal(self, canal):\n",
        "    if (canal > 0) and (canal <= 100):\n",
        "      self.canal = canal\n",
        "\n",
        "  def aumentarVolume(self):\n",
        "    if (self.volume < 100):\n",
        "      self.volume += 1\n",
        "      \n",
        "  def diminuirVolume(self):\n",
        "    if (self.volume > 0):\n",
        "      self.volume -= 1\n",
        "      tv = Tv() \n",
        "      print(vars(tv))\n",
        "      tv.setCanal(56)\n",
        "      print(vars(tv))\n",
        "      tv.aumentarVolume()\n",
        "      print(vars(tv))\n",
        "      tv.diminuirVolume()\n",
        "      print(vars(tv))"
      ],
      "metadata": {
        "id": "sHIdB0KDaCdm"
      },
      "execution_count": null,
      "outputs": []
    },
    {
      "cell_type": "code",
      "source": [
        "class Bichinho():\n",
        "  def __init__(self, nome, fome, saude, idade):\n",
        "      self.setNome(nome)\n",
        "      self.setFome(fome)\n",
        "      self.setSaude(saude)\n",
        "      self.setIdade(idade)\n",
        "\n",
        "  def setNome(self, nome):\n",
        "      self.nome = nome        \n",
        "\n",
        "  def setFome(self, fome):\n",
        "      self.fome = fome\n",
        "\n",
        "  def setSaude(self, saude):\n",
        "      self.saude = saude\n",
        "      \n",
        "  def setIdade(self, idade):\n",
        "      self.idade = idade\n",
        "\n",
        "  def getNome(self):\n",
        "      return self.nome\n",
        "\n",
        "  def getFome(self):\n",
        "      return self.fome\n",
        "\n",
        "  def getSaude(self):\n",
        "      return self.saude\n",
        "\n",
        "  def getIdade(self, idade):\n",
        "      return self.idade\n",
        "\n",
        "  def humor(self):\n",
        "      return self.getFome() * self.getSaude()\n",
        "\n",
        "b = Bichinho(\"Tamagoshi\", 5,5,5)\n",
        "print(b.humor())"
      ],
      "metadata": {
        "colab": {
          "base_uri": "https://localhost:8080/"
        },
        "id": "FC-iXJZgadZE",
        "outputId": "92b591d4-685d-4804-edfb-ee79649e783d"
      },
      "execution_count": null,
      "outputs": [
        {
          "output_type": "stream",
          "name": "stdout",
          "text": [
            "25\n"
          ]
        }
      ]
    },
    {
      "cell_type": "code",
      "source": [
        "class Ponto:\n",
        "  def __init__(self, x, y):\n",
        "    self.x = xself.y = y\n",
        "\n",
        "class Retangulo:\n",
        "  def __init__(self, canto1, canto2):\n",
        "    self.canto1 = canto1\n",
        "    self.canto2 = canto2\n",
        "    \n",
        "  def centro(self):\n",
        "    x_centro = (self.canto1.x + self.canto2.x) / 2.0\n",
        "    y_centro = (self.canto1.y + self.canto2.y) / 2.0\n",
        "    return \"X=\" + str(x_centro) + \"Y=\" + str(y_centro)\n",
        "\n",
        "    x1 = float(input(\"Entre a coordenada x do canto inferior esquerdo: \"))\n",
        "    y1 = float(input(\"Entre a coordenada y do canto inferior esquerdo: \"))\n",
        "    canto1 = Ponto(x1, y1)\n",
        "    x2 = float(input(\"Entre a coordenada x do canto superior direito: \"))\n",
        "    y2 = float(input(\"Entre a coordenada y do canto superior direito: \"))\n",
        "    canto2 = Ponto(x2, y2)\n",
        "    ret = Retangulo(canto1, canto2)\n",
        "    print (\"Ponto central e %s\" % ret.centro())"
      ],
      "metadata": {
        "id": "HufVzAvRbQiU"
      },
      "execution_count": null,
      "outputs": []
    },
    {
      "cell_type": "code",
      "source": [
        "class BombaCombustivel:\n",
        "  def __init__(self, tipoCombustivel, valorLitro, quantidadeCombustivel):\n",
        "    self.tipoCombustivel = tipoCombustivel\n",
        "    self.valorLitro = valorLitro\n",
        "    self.quantidadeCombustivel = quantidadeCombustivel\n",
        "\n",
        "  def alterarValor(self, valorLitro):\n",
        "    self.valorLitro = valorLitro\n",
        "\n",
        "  def alterarCombustivel(self, tipoCombustivel):\n",
        "    self.tipoCombustivel = tipoCombustivel\n",
        "\n",
        "  def alterarQuantidadeCombustivel(self, quantidadeCombustivel):\n",
        "    self.quantidadeCombustivel = quantidadeCombustivel\n",
        "\n",
        "  def abastecerPorValor(self, valor):\n",
        "    temp = valor/self.valorLitro\n",
        "    self.alterarQuantidadeCombustivel(self.quantidadeCombustivel -temp)\n",
        "    return temp\n",
        "\n",
        "  def abastecerPorLitro(self, qtd):\n",
        "    temp2 = qtd * self.valorLitro\n",
        "    self.alterarQuantidadeCombustivel(self.quantidadeCombustivel -qtd)\n",
        "    return temp2\n",
        "\n",
        "a1 = BombaCombustivel(\"Gasolina\", 5, 500)\n",
        "print(a1.abastecerPorValor(150))\n",
        "print(a1.quantidadeCombustivel)\n",
        "print(a1.abastecerPorLitro(30))\n",
        "print(a1.quantidadeCombustivel)"
      ],
      "metadata": {
        "colab": {
          "base_uri": "https://localhost:8080/"
        },
        "id": "1HiD2IQYb3tU",
        "outputId": "d92d83a1-6dd9-4ec7-8ea2-21bc28c3b427"
      },
      "execution_count": null,
      "outputs": [
        {
          "output_type": "stream",
          "name": "stdout",
          "text": [
            "30.0\n",
            "470.0\n",
            "150\n",
            "440.0\n"
          ]
        }
      ]
    },
    {
      "cell_type": "code",
      "source": [
        "class Conta():\n",
        "  def __init__(self, numero, nome, saldo=0):\n",
        "    self.numero = numeroself.nome = nomeself.saldo = saldo\n",
        "\n",
        "  def setNome(self, nome):\n",
        "    self.nome = nome\n",
        "\n",
        "  def deposito(self, valor):\n",
        "    self.saldo += valor\n",
        "\n",
        "  def saque(self, valor):\n",
        "    if (self.saldo >= valor):\n",
        "        self.saldo -= valor\n",
        "\n",
        "class contaInvestimento(Conta):\n",
        "\n",
        "  def __init__(self, numero, nome, saldo, taxaJuros):\n",
        "    Conta.__init__(self, numero, nome, saldo)\n",
        "    self.taxaJuros = taxaJuros\n",
        "    def adicioneJuros(self):self.saldo += (self.saldo * self.taxaJuros/100)\n",
        "    poupanca = contaInvestimento(123, \"Jose\", 1000, 10)\n",
        "    print(vars(poupanca))\n",
        "    poupanca.adicioneJuros()\n",
        "    poupanca.adicioneJuros()\n",
        "    poupanca.adicioneJuros()\n",
        "    poupanca.adicioneJuros()\n",
        "    poupanca.adicioneJuros()\n",
        "    print(vars(poupanca))"
      ],
      "metadata": {
        "id": "lVi030dVcgZ0"
      },
      "execution_count": null,
      "outputs": []
    },
    {
      "cell_type": "code",
      "source": [
        "class Funcionario():\n",
        "  def __init__(self, nome, salario):\n",
        "    self.nome = nome\n",
        "    self.salario = salario\n",
        "\n",
        "  def getNome(self):\n",
        "      return self.nome\n",
        "\n",
        "  def getSalario(self):\n",
        "      return self.salario\n",
        "\n",
        "Func = Funcionario(\"Jose\", 1200)\n",
        "print(\"Nome: \", Func.getNome(), \", Salario\", Func.getSalario())"
      ],
      "metadata": {
        "colab": {
          "base_uri": "https://localhost:8080/"
        },
        "id": "VIi55XCsdY8E",
        "outputId": "86826d38-01a2-49cc-e9a6-fd0ea5dd8b87"
      },
      "execution_count": null,
      "outputs": [
        {
          "output_type": "stream",
          "name": "stdout",
          "text": [
            "Nome:  Jose , Salario 1200\n"
          ]
        }
      ]
    },
    {
      "cell_type": "code",
      "source": [
        "class Bichinho():\n",
        "  def __init__(self, nome, fome, saude, idade):\n",
        "     self.setNome(nome)\n",
        "     self.setFome(fome)\n",
        "     self.setSaude(saude)\n",
        "     self.setIdade(idade)\n",
        "\n",
        "  def setNome(self, nome):\n",
        "        self.nome = nome    \n",
        "\n",
        "  def setFome(self, fome):\n",
        "      self.fome = fome\n",
        "\n",
        "  def setSaude(self, saude):\n",
        "      self.saude = saude\n",
        "\n",
        "  def setIdade(self, idade):\n",
        "      self.idade = idade\n",
        "      \n",
        "  def getNome(self):\n",
        "      return self.nome\n",
        "      \n",
        "  def getFome(self):\n",
        "      return self.fome\n",
        "      \n",
        "  def getSaude(self):\n",
        "      return self.saude\n",
        "      \n",
        "  def getIdade(self, idade):\n",
        "      return self.idade\n",
        "      \n",
        "  def humor(self):\n",
        "      return self.getFome() * self.getSaude()\n",
        "      \n",
        "  def alimenta(self, quantidade):\n",
        "      if (quantidade >= 0) and (quantidade <= 100):\n",
        "        self.fome -= self.fome * (quantidade /100.0)\n",
        "\n",
        "  def brincar(self, quantidade):\n",
        "      if (quantidade >= 0) and (quantidade <= 100):\n",
        "        self.saude += self.saude * (quantidade / 100.0)\n",
        "\n",
        "b = Bichinho(\"Tamagoshi\", 5,5,5)\n",
        "print(b.humor())\n",
        "b.alimenta(30)\n",
        "print(b.humor())\n",
        "b.brincar(20)\n",
        "print(b.humor())"
      ],
      "metadata": {
        "colab": {
          "base_uri": "https://localhost:8080/"
        },
        "id": "zEIfqEm2d7Xc",
        "outputId": "29deffbd-aed9-40a0-cc0a-c30cc282e0fc"
      },
      "execution_count": null,
      "outputs": [
        {
          "output_type": "stream",
          "name": "stdout",
          "text": [
            "25\n",
            "17.5\n",
            "21.0\n"
          ]
        }
      ]
    },
    {
      "cell_type": "code",
      "source": [
        "from random import randint\n",
        "\n",
        "class Bichinho():\n",
        "  def __init__(self, nome, fome, saude, idade):\n",
        "     self.setNome(nome)\n",
        "     self.setFome(fome)\n",
        "     self.setSaude(saude)\n",
        "     self.setIdade(idade)\n",
        "    \n",
        "  def setNome(self, nome):\n",
        "     self.nome = nome        \n",
        "  \n",
        "  def setFome(self, fome):\n",
        "     self.fome = fome\n",
        "  \n",
        "  def setSaude(self, saude):\n",
        "     self.saude = saude\n",
        "    \n",
        "  def setIdade(self, idade):\n",
        "       self.idade = idade\n",
        "      \n",
        "  def getNome(self):\n",
        "       return self.nome\n",
        "    \n",
        "  def getFome(self):\n",
        "       return self.fome\n",
        "    \n",
        "  def getSaude(self):\n",
        "       return self.saude\n",
        "    \n",
        "  def getIdade(self):\n",
        "       return self.idade\n",
        "    \n",
        "  def humor(self):\n",
        "       return self.getFome() * self.getSaude()\n",
        "    \n",
        "  def alimenta(self, quantidade):\n",
        "    if (quantidade >= 0) and (quantidade <= 100):\n",
        "      self.fome -= self.fome* (quantidade /100.0)\n",
        "      def brincar(self, quantidade):\n",
        "        if (quantidade >= 0) and (quantidade <= 100):\n",
        "          self.saude += self.saude * (quantidade / 100.0)\n",
        "\n",
        "  def str(self):\n",
        "     return (\"Nome: \"  + str(self.getNome()) + \", Fome: \" + str(self.getFome()) + \", Saude: \" + str(self.getSaude()) + \", Idade: \" + str(self.getIdade()))\n",
        "    \n",
        "a = Bichinho(\"Cachorro\", randint(0,10),randint(0,10),5)\n",
        "b = Bichinho(\"Gato\", randint(0,10),randint(0,10),5)\n",
        "c = Bichinho(\"Coelho\", randint(0,10),randint(0,10),5)\n",
        "fazenda = []\n",
        "fazenda.append(a)\n",
        "fazenda.append(b)\n",
        "fazenda.append(c)\n",
        "\n",
        "while True:\n",
        "    print(\":::: FAZENDA ::::\")\n",
        "    print(\"1. Alimentar todos os bichos\")\n",
        "    print(\"2. Brincar com todos os bichos\")\n",
        "    print(\"3. Ouvir todos os bichos\")\n",
        "    print(\"4. Sair\")\n",
        "    op = int(input())\n",
        "\n",
        "    if (op == 1):\n",
        "       alimento = int(input(\"Alimentar todos com: \"))\n",
        "       for i in range(3):\n",
        "         fazenda[i].alimenta(alimento)\n",
        "    elif(op ==2):\n",
        "      brinquedo = int(input(\"Brincar todos com: \"))\n",
        "      for i in range(3):\n",
        "         fazenda[i].brincar(brinquedo)\n",
        "    elif(op == 3):\n",
        "       for i in range(3):\n",
        "           print(fazenda[i].getNome() + \": \" + str(fazenda[i].humor()))\n",
        "    elif(op == 4):\n",
        "         break       \n",
        "\n"
      ],
      "metadata": {
        "colab": {
          "base_uri": "https://localhost:8080/",
          "height": 625
        },
        "id": "vZpys4GneOOT",
        "outputId": "256c08aa-d5d9-446e-a4db-d369116874ae"
      },
      "execution_count": 84,
      "outputs": [
        {
          "metadata": {
            "tags": null
          },
          "name": "stdout",
          "output_type": "stream",
          "text": [
            ":::: FAZENDA ::::\n",
            "1. Alimentar todos os bichos\n",
            "2. Brincar com todos os bichos\n",
            "3. Ouvir todos os bichos\n",
            "4. Sair\n"
          ]
        },
        {
          "output_type": "error",
          "ename": "KeyboardInterrupt",
          "evalue": "ignored",
          "traceback": [
            "\u001b[0;31m---------------------------------------------------------------------------\u001b[0m",
            "\u001b[0;31mKeyboardInterrupt\u001b[0m                         Traceback (most recent call last)",
            "\u001b[0;32m/usr/local/lib/python3.7/dist-packages/ipykernel/kernelbase.py\u001b[0m in \u001b[0;36m_input_request\u001b[0;34m(self, prompt, ident, parent, password)\u001b[0m\n\u001b[1;32m    728\u001b[0m             \u001b[0;32mtry\u001b[0m\u001b[0;34m:\u001b[0m\u001b[0;34m\u001b[0m\u001b[0;34m\u001b[0m\u001b[0m\n\u001b[0;32m--> 729\u001b[0;31m                 \u001b[0mident\u001b[0m\u001b[0;34m,\u001b[0m \u001b[0mreply\u001b[0m \u001b[0;34m=\u001b[0m \u001b[0mself\u001b[0m\u001b[0;34m.\u001b[0m\u001b[0msession\u001b[0m\u001b[0;34m.\u001b[0m\u001b[0mrecv\u001b[0m\u001b[0;34m(\u001b[0m\u001b[0mself\u001b[0m\u001b[0;34m.\u001b[0m\u001b[0mstdin_socket\u001b[0m\u001b[0;34m,\u001b[0m \u001b[0;36m0\u001b[0m\u001b[0;34m)\u001b[0m\u001b[0;34m\u001b[0m\u001b[0;34m\u001b[0m\u001b[0m\n\u001b[0m\u001b[1;32m    730\u001b[0m             \u001b[0;32mexcept\u001b[0m \u001b[0mException\u001b[0m\u001b[0;34m:\u001b[0m\u001b[0;34m\u001b[0m\u001b[0;34m\u001b[0m\u001b[0m\n",
            "\u001b[0;32m/usr/local/lib/python3.7/dist-packages/jupyter_client/session.py\u001b[0m in \u001b[0;36mrecv\u001b[0;34m(self, socket, mode, content, copy)\u001b[0m\n\u001b[1;32m    802\u001b[0m         \u001b[0;32mtry\u001b[0m\u001b[0;34m:\u001b[0m\u001b[0;34m\u001b[0m\u001b[0;34m\u001b[0m\u001b[0m\n\u001b[0;32m--> 803\u001b[0;31m             \u001b[0mmsg_list\u001b[0m \u001b[0;34m=\u001b[0m \u001b[0msocket\u001b[0m\u001b[0;34m.\u001b[0m\u001b[0mrecv_multipart\u001b[0m\u001b[0;34m(\u001b[0m\u001b[0mmode\u001b[0m\u001b[0;34m,\u001b[0m \u001b[0mcopy\u001b[0m\u001b[0;34m=\u001b[0m\u001b[0mcopy\u001b[0m\u001b[0;34m)\u001b[0m\u001b[0;34m\u001b[0m\u001b[0;34m\u001b[0m\u001b[0m\n\u001b[0m\u001b[1;32m    804\u001b[0m         \u001b[0;32mexcept\u001b[0m \u001b[0mzmq\u001b[0m\u001b[0;34m.\u001b[0m\u001b[0mZMQError\u001b[0m \u001b[0;32mas\u001b[0m \u001b[0me\u001b[0m\u001b[0;34m:\u001b[0m\u001b[0;34m\u001b[0m\u001b[0;34m\u001b[0m\u001b[0m\n",
            "\u001b[0;32m/usr/local/lib/python3.7/dist-packages/zmq/sugar/socket.py\u001b[0m in \u001b[0;36mrecv_multipart\u001b[0;34m(self, flags, copy, track)\u001b[0m\n\u001b[1;32m    624\u001b[0m         \"\"\"\n\u001b[0;32m--> 625\u001b[0;31m         \u001b[0mparts\u001b[0m \u001b[0;34m=\u001b[0m \u001b[0;34m[\u001b[0m\u001b[0mself\u001b[0m\u001b[0;34m.\u001b[0m\u001b[0mrecv\u001b[0m\u001b[0;34m(\u001b[0m\u001b[0mflags\u001b[0m\u001b[0;34m,\u001b[0m \u001b[0mcopy\u001b[0m\u001b[0;34m=\u001b[0m\u001b[0mcopy\u001b[0m\u001b[0;34m,\u001b[0m \u001b[0mtrack\u001b[0m\u001b[0;34m=\u001b[0m\u001b[0mtrack\u001b[0m\u001b[0;34m)\u001b[0m\u001b[0;34m]\u001b[0m\u001b[0;34m\u001b[0m\u001b[0;34m\u001b[0m\u001b[0m\n\u001b[0m\u001b[1;32m    626\u001b[0m         \u001b[0;31m# have first part already, only loop while more to receive\u001b[0m\u001b[0;34m\u001b[0m\u001b[0;34m\u001b[0m\u001b[0;34m\u001b[0m\u001b[0m\n",
            "\u001b[0;32mzmq/backend/cython/socket.pyx\u001b[0m in \u001b[0;36mzmq.backend.cython.socket.Socket.recv\u001b[0;34m()\u001b[0m\n",
            "\u001b[0;32mzmq/backend/cython/socket.pyx\u001b[0m in \u001b[0;36mzmq.backend.cython.socket.Socket.recv\u001b[0;34m()\u001b[0m\n",
            "\u001b[0;32mzmq/backend/cython/socket.pyx\u001b[0m in \u001b[0;36mzmq.backend.cython.socket._recv_copy\u001b[0;34m()\u001b[0m\n",
            "\u001b[0;32m/usr/local/lib/python3.7/dist-packages/zmq/backend/cython/checkrc.pxd\u001b[0m in \u001b[0;36mzmq.backend.cython.checkrc._check_rc\u001b[0;34m()\u001b[0m\n",
            "\u001b[0;31mKeyboardInterrupt\u001b[0m: ",
            "\nDuring handling of the above exception, another exception occurred:\n",
            "\u001b[0;31mKeyboardInterrupt\u001b[0m                         Traceback (most recent call last)",
            "\u001b[0;32m<ipython-input-84-efcf53364541>\u001b[0m in \u001b[0;36m<module>\u001b[0;34m()\u001b[0m\n\u001b[1;32m     59\u001b[0m     \u001b[0mprint\u001b[0m\u001b[0;34m(\u001b[0m\u001b[0;34m\"3. Ouvir todos os bichos\"\u001b[0m\u001b[0;34m)\u001b[0m\u001b[0;34m\u001b[0m\u001b[0;34m\u001b[0m\u001b[0m\n\u001b[1;32m     60\u001b[0m     \u001b[0mprint\u001b[0m\u001b[0;34m(\u001b[0m\u001b[0;34m\"4. Sair\"\u001b[0m\u001b[0;34m)\u001b[0m\u001b[0;34m\u001b[0m\u001b[0;34m\u001b[0m\u001b[0m\n\u001b[0;32m---> 61\u001b[0;31m     \u001b[0mop\u001b[0m \u001b[0;34m=\u001b[0m \u001b[0mint\u001b[0m\u001b[0;34m(\u001b[0m\u001b[0minput\u001b[0m\u001b[0;34m(\u001b[0m\u001b[0;34m)\u001b[0m\u001b[0;34m)\u001b[0m\u001b[0;34m\u001b[0m\u001b[0;34m\u001b[0m\u001b[0m\n\u001b[0m\u001b[1;32m     62\u001b[0m \u001b[0;34m\u001b[0m\u001b[0m\n\u001b[1;32m     63\u001b[0m     \u001b[0;32mif\u001b[0m \u001b[0;34m(\u001b[0m\u001b[0mop\u001b[0m \u001b[0;34m==\u001b[0m \u001b[0;36m1\u001b[0m\u001b[0;34m)\u001b[0m\u001b[0;34m:\u001b[0m\u001b[0;34m\u001b[0m\u001b[0;34m\u001b[0m\u001b[0m\n",
            "\u001b[0;32m/usr/local/lib/python3.7/dist-packages/ipykernel/kernelbase.py\u001b[0m in \u001b[0;36mraw_input\u001b[0;34m(self, prompt)\u001b[0m\n\u001b[1;32m    702\u001b[0m             \u001b[0mself\u001b[0m\u001b[0;34m.\u001b[0m\u001b[0m_parent_ident\u001b[0m\u001b[0;34m,\u001b[0m\u001b[0;34m\u001b[0m\u001b[0;34m\u001b[0m\u001b[0m\n\u001b[1;32m    703\u001b[0m             \u001b[0mself\u001b[0m\u001b[0;34m.\u001b[0m\u001b[0m_parent_header\u001b[0m\u001b[0;34m,\u001b[0m\u001b[0;34m\u001b[0m\u001b[0;34m\u001b[0m\u001b[0m\n\u001b[0;32m--> 704\u001b[0;31m             \u001b[0mpassword\u001b[0m\u001b[0;34m=\u001b[0m\u001b[0;32mFalse\u001b[0m\u001b[0;34m,\u001b[0m\u001b[0;34m\u001b[0m\u001b[0;34m\u001b[0m\u001b[0m\n\u001b[0m\u001b[1;32m    705\u001b[0m         )\n\u001b[1;32m    706\u001b[0m \u001b[0;34m\u001b[0m\u001b[0m\n",
            "\u001b[0;32m/usr/local/lib/python3.7/dist-packages/ipykernel/kernelbase.py\u001b[0m in \u001b[0;36m_input_request\u001b[0;34m(self, prompt, ident, parent, password)\u001b[0m\n\u001b[1;32m    732\u001b[0m             \u001b[0;32mexcept\u001b[0m \u001b[0mKeyboardInterrupt\u001b[0m\u001b[0;34m:\u001b[0m\u001b[0;34m\u001b[0m\u001b[0;34m\u001b[0m\u001b[0m\n\u001b[1;32m    733\u001b[0m                 \u001b[0;31m# re-raise KeyboardInterrupt, to truncate traceback\u001b[0m\u001b[0;34m\u001b[0m\u001b[0;34m\u001b[0m\u001b[0;34m\u001b[0m\u001b[0m\n\u001b[0;32m--> 734\u001b[0;31m                 \u001b[0;32mraise\u001b[0m \u001b[0mKeyboardInterrupt\u001b[0m\u001b[0;34m\u001b[0m\u001b[0;34m\u001b[0m\u001b[0m\n\u001b[0m\u001b[1;32m    735\u001b[0m             \u001b[0;32melse\u001b[0m\u001b[0;34m:\u001b[0m\u001b[0;34m\u001b[0m\u001b[0;34m\u001b[0m\u001b[0m\n\u001b[1;32m    736\u001b[0m                 \u001b[0;32mbreak\u001b[0m\u001b[0;34m\u001b[0m\u001b[0;34m\u001b[0m\u001b[0m\n",
            "\u001b[0;31mKeyboardInterrupt\u001b[0m: "
          ]
        }
      ]
    },
    {
      "cell_type": "code",
      "source": [
        ""
      ],
      "metadata": {
        "id": "-Z4MfJj3faVN"
      },
      "execution_count": null,
      "outputs": []
    }
  ]
}